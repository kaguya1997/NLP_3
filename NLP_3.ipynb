{
 "cells": [
  {
   "cell_type": "code",
   "execution_count": 1,
   "id": "1e6e99e5",
   "metadata": {},
   "outputs": [],
   "source": [
    "from sklearn import datasets\n",
    "from sklearn import neighbors\n",
    "from sklearn.model_selection import train_test_split\n",
    "from sklearn.neighbors import KNeighborsClassifier\n",
    "from sklearn.feature_extraction.text import TfidfVectorizer\n",
    "import numpy as np\n",
    "import pandas as pd\n",
    "import jieba\n"
   ]
  },
  {
   "cell_type": "code",
   "execution_count": 2,
   "id": "b4f8b6c0",
   "metadata": {},
   "outputs": [],
   "source": [
    "df = pd.read_csv(r'movies.csv')"
   ]
  },
  {
   "cell_type": "code",
   "execution_count": 3,
   "id": "3a207f1a",
   "metadata": {},
   "outputs": [],
   "source": [
    "tags = []\n",
    "for i in df.分類:\n",
    "    counter = 0\n",
    "    tag = \"\"\n",
    "    stop = [\"[\", \"]\", \"'\", \",\", \" \"]\n",
    "    for j in i:\n",
    "        if counter == 2:\n",
    "            break\n",
    "        if j not in stop:\n",
    "            tag = tag + j\n",
    "            counter += 1\n",
    "    tags.append(tag)"
   ]
  },
  {
   "cell_type": "code",
   "execution_count": 4,
   "id": "bb23c280",
   "metadata": {},
   "outputs": [],
   "source": [
    "info = {}\n",
    "infos = []\n",
    "counter = 0\n",
    "for i in range(len(df)):\n",
    "    info = {}\n",
    "    temp = tags[counter]\n",
    "    if temp == \"\":\n",
    "        counter += 1\n",
    "        continue\n",
    "    info['名稱'] = df.名稱[counter]\n",
    "    info['分類'] = temp\n",
    "    info['劇情介紹'] = df.劇情介紹[counter]\n",
    "    counter += 1\n",
    "    infos.append(dict(list(info.items())))"
   ]
  },
  {
   "cell_type": "code",
   "execution_count": 5,
   "id": "93ddb52b",
   "metadata": {},
   "outputs": [],
   "source": [
    "tag_list = []\n",
    "for i in infos:\n",
    "    temp = i['分類']\n",
    "    if temp not in tag_list:\n",
    "        tag_list.append(temp)"
   ]
  },
  {
   "cell_type": "code",
   "execution_count": 6,
   "id": "8893f5cd",
   "metadata": {},
   "outputs": [],
   "source": [
    "tag_code = []\n",
    "test_code = []\n",
    "for cut, i in enumerate(infos):\n",
    "    if cut < len(infos) - 500:\n",
    "        for counter, j in enumerate(tag_list):\n",
    "            if i['分類'] == j:\n",
    "                tag_code.append(counter)\n",
    "    else:\n",
    "        for counter, j in enumerate(tag_list):\n",
    "            if i['分類'] == j:\n",
    "                test_code.append(counter)"
   ]
  },
  {
   "cell_type": "code",
   "execution_count": 7,
   "id": "4fc38506",
   "metadata": {},
   "outputs": [
    {
     "name": "stderr",
     "output_type": "stream",
     "text": [
      "Building prefix dict from the default dictionary ...\n",
      "Loading model from cache C:\\Users\\輝夜\\AppData\\Local\\Temp\\jieba.cache\n",
      "Loading model cost 0.787 seconds.\n",
      "Prefix dict has been built successfully.\n"
     ]
    }
   ],
   "source": [
    "#用標題來預測\n",
    "title = []\n",
    "test = []\n",
    "for counter, i in enumerate(infos):\n",
    "    words = i['名稱'].split()\n",
    "    cut_words = [list(jieba.cut(j)) for j in words]\n",
    "    if counter < len(infos) - 500:\n",
    "        title.append([\" \".join(j) for j in cut_words])\n",
    "    else:\n",
    "        test.append([\" \".join(j) for j in cut_words])"
   ]
  },
  {
   "cell_type": "code",
   "execution_count": 8,
   "id": "23e2f793",
   "metadata": {},
   "outputs": [],
   "source": [
    "arr = []\n",
    "for i in title:\n",
    "    arr.append(i[0])"
   ]
  },
  {
   "cell_type": "code",
   "execution_count": 9,
   "id": "ada08573",
   "metadata": {},
   "outputs": [],
   "source": [
    "test_arr = []\n",
    "for i in test:\n",
    "    test_arr.append(i[0])"
   ]
  },
  {
   "cell_type": "code",
   "execution_count": 10,
   "id": "c634160d",
   "metadata": {},
   "outputs": [],
   "source": [
    "vectorizer = TfidfVectorizer(token_pattern=r\"(?u)\\b\\w+\\b\")\n",
    "response = vectorizer.fit(arr).transform(arr)\n",
    "test_data = vectorizer.fit(arr).transform(test_arr)"
   ]
  },
  {
   "cell_type": "code",
   "execution_count": 11,
   "id": "493401e0",
   "metadata": {},
   "outputs": [],
   "source": [
    "knn = KNeighborsClassifier(n_neighbors = 4)\n",
    "knn.fit(response, tag_code)\n",
    "result = knn.predict(test_data)"
   ]
  },
  {
   "cell_type": "code",
   "execution_count": 12,
   "id": "d77a71a3",
   "metadata": {},
   "outputs": [
    {
     "name": "stdout",
     "output_type": "stream",
     "text": [
      "0.422\n"
     ]
    }
   ],
   "source": [
    "temp = len(result)\n",
    "success = 0\n",
    "if temp == len(test_code):\n",
    "    for i in range(temp):\n",
    "        if result[i] == test_code[i]:\n",
    "            success += 1\n",
    "print(success/temp)"
   ]
  },
  {
   "cell_type": "code",
   "execution_count": 13,
   "id": "93127f73",
   "metadata": {},
   "outputs": [],
   "source": [
    "#用劇情介紹來預測\n",
    "intro = []\n",
    "test2 = []\n",
    "for counter, i in enumerate(infos):\n",
    "    words = i['劇情介紹'].split()\n",
    "    cut_words = [list(jieba.cut(j)) for j in words]\n",
    "    if counter < len(infos) - 500:\n",
    "        intro.append([\" \".join(j) for j in cut_words])\n",
    "    else:\n",
    "        test2.append([\" \".join(j) for j in cut_words])"
   ]
  },
  {
   "cell_type": "code",
   "execution_count": 14,
   "id": "4dd106d9",
   "metadata": {},
   "outputs": [],
   "source": [
    "arr2 = []\n",
    "for i in intro:\n",
    "    arr2.append(i[0])"
   ]
  },
  {
   "cell_type": "code",
   "execution_count": 15,
   "id": "ad0dce30",
   "metadata": {},
   "outputs": [],
   "source": [
    "test_arr2 = []\n",
    "for i in test2:\n",
    "    test_arr2.append(i[0])"
   ]
  },
  {
   "cell_type": "code",
   "execution_count": 16,
   "id": "d3dd09ed",
   "metadata": {},
   "outputs": [],
   "source": [
    "#vectorizer = TfidfVectorizer(token_pattern=r\"(?u)\\b\\w+\\b\")\n",
    "response2 = vectorizer.fit(arr2).transform(arr2)\n",
    "test_data2 = vectorizer.fit(arr2).transform(test_arr2)"
   ]
  },
  {
   "cell_type": "code",
   "execution_count": 17,
   "id": "f38743e8",
   "metadata": {},
   "outputs": [],
   "source": [
    "knn2 = KNeighborsClassifier(n_neighbors = 3)\n",
    "knn2.fit(response2, tag_code)\n",
    "result2 = knn2.predict(test_data2)"
   ]
  },
  {
   "cell_type": "code",
   "execution_count": 18,
   "id": "85e9a6b0",
   "metadata": {},
   "outputs": [
    {
     "name": "stdout",
     "output_type": "stream",
     "text": [
      "0.342\n"
     ]
    }
   ],
   "source": [
    "temp = len(result2)\n",
    "success = 0\n",
    "if temp == len(test_code):\n",
    "    for i in range(temp):\n",
    "        if result2[i] == test_code[i]:\n",
    "            success += 1\n",
    "print(success/temp)"
   ]
  },
  {
   "cell_type": "code",
   "execution_count": null,
   "id": "8ada62be",
   "metadata": {},
   "outputs": [],
   "source": []
  }
 ],
 "metadata": {
  "kernelspec": {
   "display_name": "Python 3",
   "language": "python",
   "name": "python3"
  },
  "language_info": {
   "codemirror_mode": {
    "name": "ipython",
    "version": 3
   },
   "file_extension": ".py",
   "mimetype": "text/x-python",
   "name": "python",
   "nbconvert_exporter": "python",
   "pygments_lexer": "ipython3",
   "version": "3.8.8"
  }
 },
 "nbformat": 4,
 "nbformat_minor": 5
}
